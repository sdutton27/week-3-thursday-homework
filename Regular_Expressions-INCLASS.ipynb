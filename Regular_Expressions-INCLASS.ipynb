{
 "cells": [
  {
   "cell_type": "markdown",
   "metadata": {},
   "source": [
    "# Regular Expressions"
   ]
  },
  {
   "cell_type": "markdown",
   "metadata": {},
   "source": [
    "# Tasks today:\n",
    "1) <b>Importing</b> <br>\n",
    "2) <b>Using Regular Expressions</b> <br>\n",
    " &nbsp;&nbsp;&nbsp;&nbsp; a) re.compile() <br>\n",
    " &nbsp;&nbsp;&nbsp;&nbsp; b) re.match() <br>\n",
    " &nbsp;&nbsp;&nbsp;&nbsp; c) re.findall() <br>\n",
    " &nbsp;&nbsp;&nbsp;&nbsp; d) re.search() <br>\n",
    "3) <b>Sets</b> <br>\n",
    " &nbsp;&nbsp;&nbsp;&nbsp; a) Integer Ranges <br>\n",
    " &nbsp;&nbsp;&nbsp;&nbsp; b) Character Ranges <br>\n",
    "4) <b>Counting Occurences</b> <br>\n",
    " &nbsp;&nbsp;&nbsp;&nbsp; a) {x} <br>\n",
    " &nbsp;&nbsp;&nbsp;&nbsp; b) {, x} <br>\n",
    " &nbsp;&nbsp;&nbsp;&nbsp; c) {?} <br>\n",
    " &nbsp;&nbsp;&nbsp;&nbsp; d) {*} <br>\n",
    " &nbsp;&nbsp;&nbsp;&nbsp; e) {+} <br>\n",
    "5) <b>In-Class Exercise #1</b> <br>\n",
    "6) <b>Escaping Characters</b> <br>\n",
    "7) <b>Grouping</b> <br>\n",
    "8) <b>In-Class Exercise #2</b> <br>\n",
    "9) <b>Opening a File</b> <br>\n",
    " &nbsp;&nbsp;&nbsp;&nbsp; a) open() <br>\n",
    " &nbsp;&nbsp;&nbsp;&nbsp; b) with open() <br>\n",
    " &nbsp;&nbsp;&nbsp;&nbsp; c) re.match() <br>\n",
    " &nbsp;&nbsp;&nbsp;&nbsp; d) re.search() <br>\n",
    " &nbsp;&nbsp;&nbsp;&nbsp; e) Store the String in a Variable <br>\n",
    "10) <b>Regex Project</b> <br>"
   ]
  },
  {
   "cell_type": "markdown",
   "metadata": {},
   "source": [
    "### Importing <br>\n",
    "<p>Regular Expressions are universal throughout most programming languages... They are generally imported through the module 're'.</p>"
   ]
  },
  {
   "cell_type": "code",
   "execution_count": null,
   "metadata": {},
   "outputs": [],
   "source": [
    "# import re\n",
    "import re"
   ]
  },
  {
   "cell_type": "markdown",
   "metadata": {},
   "source": [
    "### Using Regular Expressions <br>\n",
    "<p>Regular expressions give us the ability to search for patterns within text, strings, files, etc. They serve several uses, such as; security measures, searching, filtering, pattern recognition, and more...</p>"
   ]
  },
  {
   "cell_type": "markdown",
   "metadata": {},
   "source": [
    "##### re.compile()"
   ]
  },
  {
   "cell_type": "code",
   "execution_count": 3,
   "metadata": {},
   "outputs": [
    {
     "name": "stdout",
     "output_type": "stream",
     "text": [
      "re.compile('abcd')\n",
      "<class 're.Pattern'>\n"
     ]
    }
   ],
   "source": [
    "# using compile, pre determines the string to be used in regular expression methods\n",
    "\n",
    "# compiles a pattern (range), pattern that we are looking for\n",
    "import re\n",
    "\n",
    "# first pattern: \n",
    "pattern = re.compile('abcd')\n",
    "\n",
    "print(pattern)\n",
    "print(type(pattern)) # type: <class 're:Pattern'> (Pattern object)\n",
    "# lots of attributes and methods that come along with a pattern\n",
    "# can find at docs.python.org/3/library/re.html"
   ]
  },
  {
   "cell_type": "markdown",
   "metadata": {},
   "source": [
    "##### re.match()"
   ]
  },
  {
   "cell_type": "code",
   "execution_count": 10,
   "metadata": {},
   "outputs": [
    {
     "name": "stdout",
     "output_type": "stream",
     "text": [
      "None\n",
      "<class 'NoneType'>\n",
      "<re.Match object; span=(0, 4), match='abcd'>\n",
      "<class 're.Match'>\n"
     ]
    }
   ],
   "source": [
    "match1 = pattern.match('thisisalongblockofstringyouaresearchinginabcd')\n",
    "match2 = pattern.match('abcd123')\n",
    "\n",
    "print(match1) # match only works if the match is at the very beginning of the code\n",
    "print(type(match1)) # type NoneType object\n",
    "\n",
    "# Accessing the span of the match\n",
    "print(match2) # <re.Match object; span=(0, 4), match='abcd'>\n",
    "print(type(match2)) # type re.Match object\n"
   ]
  },
  {
   "cell_type": "markdown",
   "metadata": {},
   "source": [
    "##### re.findall()"
   ]
  },
  {
   "cell_type": "code",
   "execution_count": 12,
   "metadata": {},
   "outputs": [
    {
     "name": "stdout",
     "output_type": "stream",
     "text": [
      "['abcd', 'abcd', 'abcd']\n"
     ]
    }
   ],
   "source": [
    "result = pattern.findall('1234 abcd 1234abcd abc abcc cbda abcd')\n",
    "print(result) # returns a list ['abcd', 'abcd', 'abcd']\n",
    "                # returns the hardcoded 'abcd' as many times as are in the string"
   ]
  },
  {
   "cell_type": "markdown",
   "metadata": {},
   "source": [
    "##### re.search()"
   ]
  },
  {
   "cell_type": "code",
   "execution_count": 11,
   "metadata": {},
   "outputs": [
    {
     "name": "stdout",
     "output_type": "stream",
     "text": [
      "<re.Match object; span=(41, 45), match='abcd'>\n",
      "<re.Match object; span=(0, 4), match='abcd'>\n"
     ]
    }
   ],
   "source": [
    "search1 = pattern.search('thisisalongblockofstringyouaresearchinginabcd')\n",
    "search2 = pattern.search('abcd123')\n",
    "\n",
    "print(search1) #we still find a match since it is searching the Entire string for the pattern\n",
    "print(search2)"
   ]
  },
  {
   "cell_type": "markdown",
   "metadata": {},
   "source": [
    "### Sets <br>\n",
    "<p>The following cells will allow you to use regular expressions to search for certain values within a range such as numbers 1 through 4.</p>"
   ]
  },
  {
   "cell_type": "markdown",
   "metadata": {},
   "source": [
    "##### [a-z] or [A-Z] - any lowercase/uppercase letters from a to z<br/>[^2] - anything that's not 2"
   ]
  },
  {
   "cell_type": "markdown",
   "metadata": {},
   "source": [
    "##### Integer Ranges"
   ]
  },
  {
   "cell_type": "code",
   "execution_count": 14,
   "metadata": {},
   "outputs": [
    {
     "name": "stdout",
     "output_type": "stream",
     "text": [
      "['91800', '91801', '91802', '91803']\n"
     ]
    }
   ],
   "source": [
    "pattern = re.compile('9180[0-9]') \n",
    "# the brackets mean anything for the 5th digit between 0-9 is valid\n",
    "\n",
    "result = pattern.findall('91800 91801 91802 91109 91803')\n",
    "print(result) # ['91800', '91801', '91802', '91803']\n",
    "\n",
    "pattern = re.compile('[2-4][1-9][3-5]') \n",
    "# the brackets mean anything between those digits is valid\n",
    "result = pattern.findall('1112335')\n",
    "print(result) # ['233'] -> once the characters have already been used for a previous match, they cannot be reused"
   ]
  },
  {
   "cell_type": "markdown",
   "metadata": {},
   "source": [
    "##### Character Ranges"
   ]
  },
  {
   "cell_type": "code",
   "execution_count": 18,
   "metadata": {},
   "outputs": [
    {
     "name": "stdout",
     "output_type": "stream",
     "text": [
      "['Le', 'Br', 'Ja']\n",
      "['Le', 'Br', 'Ja', 'es']\n"
     ]
    }
   ],
   "source": [
    "pattern = re.compile('[A-Z][a-z]') #any uppercase letter followed be a lowercase letter\n",
    "results = pattern.findall('LeBron James')\n",
    "print(results) # ['Le', 'Br', 'Ja']\n",
    "\n",
    "pattern = re.compile('[A-Za-h][a-z]') #any uppercase OR LOWERCASE letter (before i (h is inclusive)) followed be a lowercase letter\n",
    "results = pattern.findall('LeBron James')\n",
    "print(results) # ['Le', 'Br', 'Ja', 'me']\n",
    "\n",
    "# you don't have to only use ranges\n",
    "pattern = re.compile('[A-Zhongjx0][a-z]') #any uppercase OR LOWERCASE letter in the list attached followed be a lowercase letter\n",
    "results = pattern.findall('LeBron James')\n",
    "print(results) # ['Le', 'Br', 'Ja', 'me']"
   ]
  },
  {
   "cell_type": "markdown",
   "metadata": {},
   "source": [
    "### Counting Occurences"
   ]
  },
  {
   "cell_type": "markdown",
   "metadata": {},
   "source": [
    "##### {x} - something that occurs {num_of_times}"
   ]
  },
  {
   "cell_type": "code",
   "execution_count": 19,
   "metadata": {},
   "outputs": [
    {
     "name": "stdout",
     "output_type": "stream",
     "text": [
      "['Bron', 'Jame']\n"
     ]
    }
   ],
   "source": [
    "pattern = re.compile('[A-Z][a-z]{3}') #any uppercase letter followed by 3 lowercase letters\n",
    "results = pattern.findall('LeBron James')\n",
    "print(results) # ['Bron', 'Jame']"
   ]
  },
  {
   "cell_type": "markdown",
   "metadata": {},
   "source": [
    "##### {x, x} - something that occurs between x and x times"
   ]
  },
  {
   "cell_type": "code",
   "execution_count": 21,
   "metadata": {},
   "outputs": [
    {
     "name": "stdout",
     "output_type": "stream",
     "text": [
      "['Le', 'Bron', 'Jame']\n"
     ]
    }
   ],
   "source": [
    "pattern = re.compile('[A-Z][a-z]{0,3}') #any uppercase letter followed by 0-3 lowercase letters\n",
    "results = pattern.findall('LeBron James')\n",
    "print(results) # ['Le', 'Bron', 'Jame']"
   ]
  },
  {
   "cell_type": "markdown",
   "metadata": {},
   "source": [
    "##### ? - something that occurs 0 or 1 time"
   ]
  },
  {
   "cell_type": "code",
   "execution_count": 23,
   "metadata": {},
   "outputs": [
    {
     "name": "stdout",
     "output_type": "stream",
     "text": [
      "['Mr.', 'Mrs.']\n"
     ]
    }
   ],
   "source": [
    "pattern = re.compile('Mr?s?.') # R and S should happen 0 or 1 times (either Mrs. or Ms.) # TECHNICALLY 'M' works because both R and S are optional\n",
    "results = pattern.findall(\"Hello Mr. Anderson, is Mrs. Anderson home?\")\n",
    "print(results)"
   ]
  },
  {
   "cell_type": "markdown",
   "metadata": {},
   "source": [
    "##### * - something that occurs at least 0 times"
   ]
  },
  {
   "cell_type": "code",
   "execution_count": 24,
   "metadata": {},
   "outputs": [
    {
     "name": "stdout",
     "output_type": "stream",
     "text": [
      "['Mr.', 'Mrs.', 'Ms ', 'M ', 'Mrrrrrrrrs']\n"
     ]
    }
   ],
   "source": [
    "pattern = re.compile('Mr*s?.') # R can happen at least 0 times S should happen 0 or 1 times (either Mrs. or Ms.) # TECHNICALLY 'M' works because both R and S are optional\n",
    "results = pattern.findall(\"Hello Mr. Anderson, is Mrs. Anderson home? Ms M Mrrrrrrrrssss\")\n",
    "print(results) # ['Mr.', 'Mrs.', 'Ms ', 'M ', 'Mrrrrrrrrs']"
   ]
  },
  {
   "cell_type": "markdown",
   "metadata": {},
   "source": [
    "##### + - something that occurs at least once"
   ]
  },
  {
   "cell_type": "code",
   "execution_count": 25,
   "metadata": {},
   "outputs": [
    {
     "name": "stdout",
     "output_type": "stream",
     "text": [
      "['Mr.', 'Mrs.', 'Mrrrrrrrrss']\n"
     ]
    }
   ],
   "source": [
    "pattern = re.compile('Mr+s?.') # R can happen at least 0 times S should happen 0 or 1 times (either Mrs. or Ms.) # TECHNICALLY 'M' works because both R and S are optional\n",
    "results = pattern.findall(\"Hello Mr. Anderson, is Mrs. Anderson home? Ms M Mrrrrrrrrssss\")\n",
    "print(results) # ['Mr.', 'Mrs.', 'Mrrrrrrrrss']"
   ]
  },
  {
   "cell_type": "markdown",
   "metadata": {},
   "source": [
    "##### In-class exercise 1: \n",
    "\n",
    "Use a regular expression to find every number in the given string"
   ]
  },
  {
   "cell_type": "code",
   "execution_count": 32,
   "metadata": {},
   "outputs": [
    {
     "name": "stdout",
     "output_type": "stream",
     "text": [
      "['10909090', '1', '2']\n",
      "['10909090', '1', '2']\n"
     ]
    }
   ],
   "source": [
    "my_string = \"This string has 10909090 numbers, but it is only 1 string. \\\n",
    "I hope you solve this 2day.\"\n",
    "\n",
    "pattern1 = re.compile('[0-9]{1,}') # contains a number, any amount of times (at least once)\n",
    "pattern2 = re.compile('[0-9]+') # contains any amount of numbers (+ is at least once)\n",
    "pattern3 = re.compile('[0-9]*[0-9]') # also works, contains\n",
    "results1 = pattern1.findall(my_string)\n",
    "results2 = pattern2.findall(my_string)\n",
    "print(results1)\n",
    "print(results2)"
   ]
  },
  {
   "cell_type": "markdown",
   "metadata": {},
   "source": [
    "### Escaping Characters"
   ]
  },
  {
   "cell_type": "markdown",
   "metadata": {},
   "source": [
    "##### \\w - look for any Unicode character<br/>\\W - look for anything that isnt a Unicode character\n",
    "\n",
    "[History on Unicode](http://unicode.org/standard/WhatIsUnicode.html)\n",
    "\n",
    "[More on Unicode Characters](https://en.wikipedia.org/wiki/List_of_Unicode_characters)"
   ]
  },
  {
   "cell_type": "code",
   "execution_count": 34,
   "metadata": {},
   "outputs": [
    {
     "name": "stdout",
     "output_type": "stream",
     "text": [
      "['Hello', 'world', 'My', 'name', 's', 'Shoha', 'and', 'I', 'am', '9001', 'years', 'old']\n",
      "[' ', '!! ', ' ', \"'\", ' ', ' ', ' ', ' ', ' ', ' ', ' ', '.']\n"
     ]
    }
   ],
   "source": [
    "# things that are unicode: letters and numbers\n",
    "# things that are not unicode: punctuation and spaces\n",
    "pattern1 = re.compile('\\w+')\n",
    "pattern2 = re.compile('\\W+') #capital letter means opposite, NOT unicode\n",
    "string = 'Hello world!! My name\\'s Shoha and I am 9001 years old.'\n",
    "result1 = pattern1.findall(string)\n",
    "result2 = pattern2.findall(string)\n",
    "print(result1)\n",
    "print(result2)"
   ]
  },
  {
   "cell_type": "markdown",
   "metadata": {},
   "source": [
    "##### \\d - look for any digit 0-9<br/>\\D - look for anything that isnt a digit"
   ]
  },
  {
   "cell_type": "code",
   "execution_count": 35,
   "metadata": {},
   "outputs": [
    {
     "name": "stdout",
     "output_type": "stream",
     "text": [
      "['9001']\n",
      "[\"Hello world!! My name's Shoha and I am \", ' years old.']\n"
     ]
    }
   ],
   "source": [
    "pattern1 = re.compile('\\d+')\n",
    "pattern2 = re.compile('\\D+') #capital letter means opposite, NOT digit(s)\n",
    "string = 'Hello world!! My name\\'s Shoha and I am 9001 years old.'\n",
    "result1 = pattern1.findall(string)\n",
    "result2 = pattern2.findall(string)\n",
    "print(result1)\n",
    "print(result2)"
   ]
  },
  {
   "cell_type": "markdown",
   "metadata": {},
   "source": [
    "##### \\s - look for any white space<br/>\\S - look for anything that isnt whitespace"
   ]
  },
  {
   "cell_type": "code",
   "execution_count": 37,
   "metadata": {},
   "outputs": [
    {
     "name": "stdout",
     "output_type": "stream",
     "text": [
      "Hello world!! My name's Shoha \t \n",
      "\tand I am 9001 years old.\n",
      "[' ', ' ', ' ', ' ', ' \\t \\n\\t', ' ', ' ', ' ', ' ', ' ']\n",
      "['Hello', 'world!!', 'My', \"name's\", 'Shoha', 'and', 'I', 'am', '9001', 'years', 'old.']\n"
     ]
    }
   ],
   "source": [
    "#another way to make a .split() -> create a pattern and use /S\n",
    "pattern1 = re.compile('\\s+')\n",
    "pattern2 = re.compile('\\S+') #capital letter means opposite, NOT whitespace\n",
    "string = 'Hello world!! My name\\'s Shoha \\t \\n\\tand I am 9001 years old.'\n",
    "\n",
    "print(string)\n",
    "result1 = pattern1.findall(string)\n",
    "result2 = pattern2.findall(string)\n",
    "print(result1)\n",
    "print(result2)"
   ]
  },
  {
   "cell_type": "markdown",
   "metadata": {},
   "source": [
    "##### \\b - look for boundaries or edges of a word<br/>\\B - look for anything that isnt a boundary"
   ]
  },
  {
   "cell_type": "code",
   "execution_count": 43,
   "metadata": {},
   "outputs": [
    {
     "name": "stdout",
     "output_type": "stream",
     "text": [
      "\b\n",
      "h\n",
      "\\b\\nhi\\b\n",
      "['Shoha']\n",
      "['Shoha']\n"
     ]
    }
   ],
   "source": [
    "# boundary: when the word is \"bounded\"\n",
    "# when there's a boundary between your word and the rest of the text\n",
    "# start/end of string is considered a bound, whitespace is considered a bound\n",
    "\n",
    "print('\\b\\nhi\\b') # when you \\b the start of a character is tweaks out\n",
    "print(r'\\b\\nhi\\b') # RAW string -> like formatted but makes everything literal\n",
    "pattern1 = re.compile(r'\\bShoha\\b')\n",
    "string = \"Shoha Tsuchida\"\n",
    "# usually use .match or .search instead\n",
    "result = pattern1.findall(string) \n",
    "print(result)\n",
    "\n",
    "pattern2 = re.compile(r'\\bShoha\\B') #if boundary on left but NOT boundary on right\n",
    "string = \"Shoha_Tsuchida\"\n",
    "result = pattern2.findall(string) \n",
    "print(result)"
   ]
  },
  {
   "cell_type": "markdown",
   "metadata": {},
   "source": [
    "### Grouping"
   ]
  },
  {
   "cell_type": "code",
   "execution_count": 53,
   "metadata": {},
   "outputs": [
    {
     "name": "stdout",
     "output_type": "stream",
     "text": [
      "['Max Smith', 'aaron rodgers', 'Sam Darnold', 'LeBron James', 'Michael Jordan', 'Kevin Durant', 'Patrick McCormick']\n",
      "Smith\n",
      "('Max', 'Smith')\n",
      "Smith\n",
      "invalid name\n",
      "Darnold\n",
      "('Sam', 'Darnold')\n",
      "Darnold\n",
      "James\n",
      "('LeBron', 'James')\n",
      "James\n",
      "Jordan\n",
      "('Michael', 'Jordan')\n",
      "Jordan\n",
      "Durant\n",
      "('Kevin', 'Durant')\n",
      "Durant\n",
      "McCormick\n",
      "('Patrick', 'McCormick')\n",
      "McCormick\n",
      "McCormick, Patrick\n"
     ]
    }
   ],
   "source": [
    "# underrated part of regex\n",
    "my_string_again = \"Max Smith, aaron rodgers, Sam Darnold, LeBron James, \\\n",
    "Michael Jordan, Kevin Durant, Patrick McCormick\"\n",
    "\n",
    "# goal is to group the people by [firstname lastname]\n",
    "\n",
    "names = my_string_again.split(\", \") #super easy\n",
    "print(names)\n",
    "\n",
    "# find everyone with a correctly capitalized name\n",
    "#pattern = re.compile('[A-Z][a-z]+ [A-Z][a-z]+') # would work but LeBron and McCormick would not work, so need to add A-Z\n",
    "pattern = re.compile('(?P<first>[A-Z][a-zA-Z]+) (?P<last>[A-Z][a-zA-Z]+)') #parentheses GROUPS these\n",
    "\n",
    "# HOW TO NAME YOUR OWN GROUP:\n",
    "# ?P<id_for_group_name>\n",
    "\n",
    "for name in names:\n",
    "    match = pattern.match(name)\n",
    "    #print(match)\n",
    "    if match:\n",
    "        # match.group() # same as group 0\n",
    "        print(match.group(2)) # group 0 = entire match; specific group #s start at 1. group1 = firstname, group2 = lastname\n",
    "        print(match.groups()) # returns tuple of (group1, group2)\n",
    "        print(match.group('last')) # since we named the lastnames group (group2) <last>\n",
    "\n",
    "        new_format = f\"{match.group('last')}, {match.group('first')}\"\n",
    "    else:\n",
    "        print('invalid name')\n",
    "\n",
    "print(new_format)"
   ]
  },
  {
   "cell_type": "markdown",
   "metadata": {},
   "source": [
    "##### In-class Exercise 2:\n",
    "\n",
    "Write a function using regular expressions to find the domain name in the given email addresses (and return None for the invalid email addresses)<br><b>HINT: Use '|' for either or</b>"
   ]
  },
  {
   "cell_type": "code",
   "execution_count": 80,
   "metadata": {},
   "outputs": [
    {
     "name": "stdout",
     "output_type": "stream",
     "text": [
      "None\n",
      "pocohontas1776@gmail.com\n",
      "None\n",
      "yourfavoriteband@g6.org\n",
      "None\n"
     ]
    }
   ],
   "source": [
    "my_emails = [\"jordanw@codingtemple.orgcom\", \"pocohontas1776@gmail.com\", \"helloworld@aol..com\",\n",
    "             \"yourfavoriteband@g6.org\", \"@codingtemple.com\"]\n",
    "\n",
    "# You can also use the $ at the end of your compile expression -- this stops the search\n",
    "# ^ helpful to make it Either .com OR .org but not .orgcom\n",
    "\n",
    "#.com OR .org => com|org\n",
    "\n",
    "#Expected output:\n",
    "#None\n",
    "#pocohontas1776@gmail.com\n",
    "#None\n",
    "#yourfavoriteband@g6.org\n",
    "#None\n",
    "\n",
    "pattern = re.compile('(?P<user>[a-z0-9]+)@(?P<company>[a-z0-9]+).(?P<domain>com|org)$')\n",
    "# real email can't begin with number\n",
    "# same with real company\n",
    "pattern = re.compile('(?P<user>[a-z][a-z0-9]*)@(?P<company>[a-z][a-z0-9]*).(?P<domain>com|org)$')\n",
    "\n",
    "for email in my_emails:\n",
    "    match = pattern.match(email)\n",
    "    if match:\n",
    "        print(email)\n",
    "    else:\n",
    "        print(\"None\")\n",
    "    #print(match.groups())\n",
    "\n"
   ]
  },
  {
   "cell_type": "markdown",
   "metadata": {},
   "source": [
    "### Opening a File <br>\n",
    "<p>Python gives us a couple ways to import files, below are the two used most often.</p>"
   ]
  },
  {
   "cell_type": "markdown",
   "metadata": {},
   "source": [
    "##### open()"
   ]
  },
  {
   "cell_type": "code",
   "execution_count": 89,
   "metadata": {},
   "outputs": [
    {
     "name": "stdout",
     "output_type": "stream",
     "text": [
      "<_io.TextIOWrapper name='files/names.txt' mode='r' encoding='UTF-8'>\n",
      "<class '_io.TextIOWrapper'>\n",
      "Hawkins, Derek\tderek@codingtemple.com\t(555) 555-5555\tTeacher, Coding Temple\t@derekhawkins\n",
      "Zhai, Mo\tmozhai@codingtemple.com\t(555) 555-5554\tTeacher, Coding Temple\n",
      "Johnson, Joe\tjoejohnson@codingtemple.com\t\tJohson, Joe\n",
      "Osterberg, Sven-Erik\tgovernor@norrbotten.co.se\t\tGovernor, Norrbotten\t@sverik\n",
      ", Tim\ttim@killerrabbit.com\t\tEnchanter, Killer Rabbit Cave\n",
      "Butz, Ryan\tryanb@codingtemple.com\t(555) 555-5543\tCEO, Coding Temple\t@ryanbutz\n",
      "Doctor, The\tdoctor+companion@tardis.co.uk\t\tTime Lord, Gallifrey\n",
      "Exampleson, Example\tme@example.com\t555-555-5552\tExample, Example Co.\t@example\n",
      "Pael, Ripal\tripalp@codingtemple.com\t(555) 555-5553\tTeacher, Coding Temple\t@ripalp\n",
      "Vader, Darth\tdarth-vader@empire.gov\t(555) 555-4444\tSith Lord, Galactic Empire\t@darthvader\n",
      "Fernandez de la Vega Sanz, Maria Teresa\tmtfvs@spain.gov\t\tFirst Deputy Prime Minister, Spanish Gov\n",
      "\n"
     ]
    }
   ],
   "source": [
    "import re\n",
    "file = open('files/names.txt')\n",
    "print(file)\n",
    "print(type(file)) # __io.TextIOWrapper object\n",
    "data = file.read()\n",
    "print(data) # actual text in file\n",
    "#data_lines = file.readlines() # can only either read() or readlines()\n",
    "#print(data_lines) # actually splits on line breaks\n",
    "\n",
    "# make sure you close the file after reading it and saving it to a variable\n",
    "# so you don't accidentally write over it\n",
    "file.close()"
   ]
  },
  {
   "cell_type": "markdown",
   "metadata": {},
   "source": [
    "##### with open()"
   ]
  },
  {
   "cell_type": "code",
   "execution_count": 90,
   "metadata": {},
   "outputs": [
    {
     "name": "stdout",
     "output_type": "stream",
     "text": [
      "['Hawkins, Derek\\tderek@codingtemple.com\\t(555) 555-5555\\tTeacher, Coding Temple\\t@derekhawkins\\n', 'Zhai, Mo\\tmozhai@codingtemple.com\\t(555) 555-5554\\tTeacher, Coding Temple\\n', 'Johnson, Joe\\tjoejohnson@codingtemple.com\\t\\tJohson, Joe\\n', 'Osterberg, Sven-Erik\\tgovernor@norrbotten.co.se\\t\\tGovernor, Norrbotten\\t@sverik\\n', ', Tim\\ttim@killerrabbit.com\\t\\tEnchanter, Killer Rabbit Cave\\n', 'Butz, Ryan\\tryanb@codingtemple.com\\t(555) 555-5543\\tCEO, Coding Temple\\t@ryanbutz\\n', 'Doctor, The\\tdoctor+companion@tardis.co.uk\\t\\tTime Lord, Gallifrey\\n', 'Exampleson, Example\\tme@example.com\\t555-555-5552\\tExample, Example Co.\\t@example\\n', 'Pael, Ripal\\tripalp@codingtemple.com\\t(555) 555-5553\\tTeacher, Coding Temple\\t@ripalp\\n', 'Vader, Darth\\tdarth-vader@empire.gov\\t(555) 555-4444\\tSith Lord, Galactic Empire\\t@darthvader\\n', 'Fernandez de la Vega Sanz, Maria Teresa\\tmtfvs@spain.gov\\t\\tFirst Deputy Prime Minister, Spanish Gov\\n']\n"
     ]
    }
   ],
   "source": [
    "with open('files/names.txt') as file:\n",
    "    # this lets us do whatever we want to the file in this indentation\n",
    "    # anything after the indent, the file is closed automatically\n",
    "    data = file.readlines()\n",
    "    print(data)\n",
    "\n",
    "# file is no longer open, but is still accessible through 'data' variable\n",
    "# ^ APPARENTLY??"
   ]
  },
  {
   "cell_type": "markdown",
   "metadata": {},
   "source": [
    "##### re.match()"
   ]
  },
  {
   "cell_type": "code",
   "execution_count": 199,
   "metadata": {},
   "outputs": [
    {
     "name": "stdout",
     "output_type": "stream",
     "text": [
      "Hawkins, Derek\tderek@codingtemple.com\t(555) 555-5555\tTeacher, Coding Temple\t@derekhawkins\n",
      "Zhai, Mo\tmozhai@codingtemple.com\t(555) 555-5554\tTeacher, Coding Temple\n",
      "Johnson, Joe\tjoejohnson@codingtemple.com\t\tJohson, Joe\n",
      "Osterberg, Sven-Erik\tgovernor@norrbotten.co.se\t\tGovernor, Norrbotten\t@sverik\n",
      ", Tim\ttim@killerrabbit.com\t\tEnchanter, Killer Rabbit Cave\n",
      "Butz, Ryan\tryanb@codingtemple.com\t(555) 555-5543\tCEO, Coding Temple\t@ryanbutz\n",
      "Doctor, The\tdoctor+companion@tardis.co.uk\t\tTime Lord, Gallifrey\n",
      "Exampleson, Example\tme@example.com\t555-555-5552\tExample, Example Co.\t@example\n",
      "Pael, Ripal\tripalp@codingtemple.com\t(555) 555-5553\tTeacher, Coding Temple\t@ripalp\n",
      "Vader, Darth\tdarth-vader@empire.gov\t(555) 555-4444\tSith Lord, Galactic Empire\t@darthvader\n",
      "Fernandez de la Vega Sanz, Maria Teresa\tmtfvs@spain.gov\t\tFirst Deputy Prime Minister, Spanish Gov\n",
      "\n",
      "<re.Match object; span=(0, 14), match='Hawkins, Derek'>\n"
     ]
    }
   ],
   "source": [
    "with open('files/names.txt') as file:\n",
    "    # this lets us do whatever we want to the file in this indentation\n",
    "    # anything after the indent, the file is closed automatically\n",
    "    #data = file.readlines()\n",
    "    data = file.read()\n",
    "    print(data)\n",
    "\n",
    "# we have been using pattern.match() after creating pattern = re.compile()\n",
    "\n",
    "# SYNTAX: re.match(pattern, string)\n",
    "    result = re.match('Hawkins, Derek', data)\n",
    "    print(result)"
   ]
  },
  {
   "cell_type": "markdown",
   "metadata": {},
   "source": [
    "##### re.search()"
   ]
  },
  {
   "cell_type": "code",
   "execution_count": 200,
   "metadata": {},
   "outputs": [
    {
     "name": "stdout",
     "output_type": "stream",
     "text": [
      "<re.Match object; span=(652, 664), match='Vader, Darth'>\n"
     ]
    }
   ],
   "source": [
    "result = re.search(\"Vader, Darth\", data)\n",
    "print(result)"
   ]
  },
  {
   "cell_type": "markdown",
   "metadata": {},
   "source": [
    "##### Store the String to a Variable"
   ]
  },
  {
   "cell_type": "code",
   "execution_count": 201,
   "metadata": {},
   "outputs": [
    {
     "name": "stdout",
     "output_type": "stream",
     "text": [
      "These are the results: \n",
      "['Hawkins, Derek', 'Teacher, Coding', 'Zhai, Mo', 'Teacher, Coding', 'Johnson, Joe', 'Johson, Joe', 'Osterberg, Sven', 'Governor, Norrbotten', 'Enchanter, Killer', 'Butz, Ryan', 'Doctor, The', 'Lord, Gallifrey', 'Exampleson, Example', 'Example, Example', 'Pael, Ripal', 'Teacher, Coding', 'Vader, Darth', 'Lord, Galactic', 'Sanz, Maria', 'Minister, Spanish']\n"
     ]
    }
   ],
   "source": [
    "ans = input('what do u want to search for?') # could input: [A-Z][a-z]+, [A-Z][a-z]+\n",
    "found = re.findall(ans, data)\n",
    "if found:\n",
    "    print(f\"These are the results: \\n{found}\")\n",
    "else:\n",
    "    print(\"Could not find what you are looking for\")"
   ]
  },
  {
   "cell_type": "markdown",
   "metadata": {},
   "source": [
    "### In-Class Exercise #3 <br>\n",
    "<p>Print each persons name and twitter handle, using groups, should look like:</p>\n",
    "<p>==============<br>\n",
    "   Full Name / Twitter<br>\n",
    "   ==============</p>\n",
    "Derek Hawkins / @derekhawkins\n",
    "\n",
    " Erik Sven-Osterberg / @sverik\n",
    "\n",
    " Ryan Butz / @ryanbutz\n",
    "\n",
    " Example Exampleson / @example\n",
    "\n",
    " Ripal Pael / @ripalp\n",
    "\n",
    " Darth Vader / @darthvader"
   ]
  },
  {
   "cell_type": "code",
   "execution_count": 181,
   "metadata": {
    "scrolled": true
   },
   "outputs": [
    {
     "name": "stdout",
     "output_type": "stream",
     "text": [
      "===================\n",
      "Full Name / Twitter\n",
      "===================\n",
      "\n",
      "Derek Hawkins / @derekhawkins\n",
      "Sven-Erik Osterberg / @sverik\n",
      "Ryan Butz / @ryanbutz\n",
      "Example Exampleson / @example\n",
      "Ripal Pael / @ripalp\n",
      "Darth Vader / @darthvader\n"
     ]
    }
   ],
   "source": [
    "# Hint: (?P<group>)? #THE ? after a group makes that group optional\n",
    "\n",
    "import re\n",
    "with open('files/names.txt') as file:\n",
    "    data = file.readlines()\n",
    "\n",
    "# Groups:\n",
    "# lastname:     starts with a Capital, then any amount of words separated by a \n",
    "#               space or dash, either capitalized or not. followed by a comma\n",
    "# firstname:    same as lastname, but followed by whitespace\n",
    "# email:        group for the sub-groups in an email, followed by whitespace\n",
    "#   user:           username for the email, starts with a lowercase letter, then \n",
    "#                   lowercase letters, numbers, +, -\n",
    "#   company:        company for the email, starts with a lowercase letter, then \n",
    "#                   lowercase letters or numbers\n",
    "#   domain:         domain name for the email, has . then at least one lowercase \n",
    "#                   letter, then can also have another . then lowercase word\n",
    "# phone: (opt.) area-code is 3 numbers surrounded by optional (), then either a\n",
    "#               space or dash, then 3 numbers-4 numbers. followed by whitespace\n",
    "# job_title:    same as lastname ^\n",
    "# work_place:   same as firstname ^\n",
    "# twitter:(opt.)@ followed by lowercase letters or numbers.\n",
    "\n",
    "pattern = re.compile('(?P<lastname>[A-Z][a-zA-Z -]+)?, (?P<firstname>[A-Z][a-zA-Z -]+)\\s(?P<email>(?P<user>[a-z][a-z0-9+-]*)@(?P<company>[a-z][a-z0-9]*)(?P<domain>.[a-z]+.?[a-z]+))\\s(?P<phone>[(]?[0-9]{3}[)]?[ -][0-9]{3}-[0-9]{4})?\\s(?P<job_title>[A-Z][a-zA-Z ]+), (?P<work_place>[A-Z][a-zA-Z .]+)\\s(?P<twitter>@[a-z0-9]+)?')\n",
    "\n",
    "print (f\"===================\\nFull Name / Twitter\\n===================\\n\")\n",
    "\n",
    "for item in data:\n",
    "    match = pattern.match(item)\n",
    "    if match.group('twitter'):\n",
    "        print(f\"{match.group('firstname')} {match.group('lastname')} / {match.group('twitter')}\")\n"
   ]
  },
  {
   "cell_type": "markdown",
   "metadata": {},
   "source": [
    "### Regex project\n",
    "\n",
    "Use python to read the file regex_test.txt and print the last name on each line using regular expressions and groups (return None for names with no first and last name, or names that aren't properly capitalized)\n",
    "##### Hint: use with open() and readlines()"
   ]
  },
  {
   "cell_type": "code",
   "execution_count": null,
   "metadata": {},
   "outputs": [],
   "source": [
    "\"\"\"\n",
    "Expected Output\n",
    "Abraham Lincoln\n",
    "Andrew P Garfield\n",
    "Connor Milliken\n",
    "Jordan Alexander Williams\n",
    "None\n",
    "None\n",
    "\"\"\""
   ]
  },
  {
   "cell_type": "code",
   "execution_count": 198,
   "metadata": {},
   "outputs": [
    {
     "name": "stdout",
     "output_type": "stream",
     "text": [
      "Expected Output\n",
      "Abraham Lincoln\n",
      "\n",
      "Andrew P Garfield\n",
      "\n",
      "Connor Milliken\n",
      "\n",
      "Jordan Alexander Williams\n",
      "\n",
      "None\n",
      "None\n"
     ]
    }
   ],
   "source": [
    "import re\n",
    "\n",
    "# Abraham Lincoln\n",
    "# Andrew P Garfield\n",
    "# Connor Milliken\n",
    "# Jordan Alexander Williams\n",
    "# Madonna -> NO LAST NAME\n",
    "# programming is cool -> NOT CAPITALIZED\n",
    "\n",
    "with open('files/regex_test.txt') as file:\n",
    "    data = file.readlines()\n",
    "\n",
    "# first: starts with a capital letter, then has as many case-insensitive letters before a space\n",
    "# middle: optional. starts with a capital letter, then has as many (optional) case-insensitive letters before an optional space\n",
    "# last: same as first\n",
    "pattern = re.compile('(?P<first>[A-Z][a-zA-Z]+)\\s(?P<middle>[A-Z][a-zA-Z]*)?\\s?(?P<last>[A-Z][a-zA-Z]+)')\n",
    "\n",
    "print(\"Expected Output\")\n",
    "for name in data:\n",
    "    match = pattern.match(name)\n",
    "    print(name) if match else print(\"None\")\n"
   ]
  }
 ],
 "metadata": {
  "kernelspec": {
   "display_name": "Python 3 (ipykernel)",
   "language": "python",
   "name": "python3"
  },
  "language_info": {
   "codemirror_mode": {
    "name": "ipython",
    "version": 3
   },
   "file_extension": ".py",
   "mimetype": "text/x-python",
   "name": "python",
   "nbconvert_exporter": "python",
   "pygments_lexer": "ipython3",
   "version": "3.9.13"
  }
 },
 "nbformat": 4,
 "nbformat_minor": 2
}
